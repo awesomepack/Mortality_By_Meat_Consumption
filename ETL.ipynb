{
 "cells": [
  {
   "cell_type": "markdown",
   "source": [
    "# Import dependencies"
   ],
   "metadata": {}
  },
  {
   "cell_type": "code",
   "execution_count": null,
   "source": [
    "import numpy as np\r\n",
    "import pandas as pd\r\n",
    "import matplotlib.pyplot as plt\r\n",
    "import scipy.stats as st"
   ],
   "outputs": [],
   "metadata": {}
  },
  {
   "cell_type": "markdown",
   "source": [
    "# Load data\r\n"
   ],
   "metadata": {}
  },
  {
   "cell_type": "markdown",
   "source": [
    "## From OECD Meat consumption per capita by country"
   ],
   "metadata": {}
  },
  {
   "cell_type": "code",
   "execution_count": null,
   "source": [
    "meat_csv_path = 'Resources/meatconsumption.csv'\r\n",
    "meat_df = pd.read_csv(meat_csv_path)\r\n",
    "meat_df.columns = meat_df.columns.map(str.lower).map(str.capitalize)\r\n",
    "meat_df.head(1)"
   ],
   "outputs": [],
   "metadata": {}
  },
  {
   "cell_type": "markdown",
   "source": [
    "### Make dictionary of OECD Country codes definitions"
   ],
   "metadata": {}
  },
  {
   "cell_type": "code",
   "execution_count": null,
   "source": [
    "oecd_cc_csv_path = 'Resources/OECDCountryCodes.csv'\r\n",
    "cc_df = pd.read_csv(oecd_cc_csv_path).set_index('code')\r\n",
    "cc_dict = cc_df.to_dict()['country']\r\n",
    "cc_dict"
   ],
   "outputs": [],
   "metadata": {}
  },
  {
   "cell_type": "markdown",
   "source": [
    "## From CDC Mortality indicators by Unintentional Poisoning"
   ],
   "metadata": {}
  },
  {
   "cell_type": "code",
   "execution_count": null,
   "source": [
    "mortalitiy_csv_path = 'Resources/MortalityByUnintentionalPoisoning.csv'\r\n",
    "mortality_df = pd.read_csv(mortalitiy_csv_path)\r\n",
    "mortality_df.head(1)"
   ],
   "outputs": [],
   "metadata": {}
  },
  {
   "cell_type": "markdown",
   "source": [
    "# Transform and Merge Dataframes"
   ],
   "metadata": {}
  },
  {
   "cell_type": "code",
   "execution_count": null,
   "source": [
    "meat_df\r\n",
    "mortality_df\r\n",
    "cc_dict"
   ],
   "outputs": [],
   "metadata": {}
  },
  {
   "cell_type": "markdown",
   "source": [
    "## Trim extraneous columns"
   ],
   "metadata": {}
  },
  {
   "cell_type": "code",
   "execution_count": null,
   "source": [
    "meat_df = meat_df[meat_df['Measure'] != 'THND_TONNE']\r\n",
    "meat_df.drop(['Indicator','Flag codes','Frequency'], axis=1, inplace = True)\r\n",
    "meat_df.head(1)"
   ],
   "outputs": [],
   "metadata": {}
  },
  {
   "cell_type": "code",
   "execution_count": null,
   "source": [
    "# Move Mortality Trimming here"
   ],
   "outputs": [],
   "metadata": {}
  },
  {
   "cell_type": "markdown",
   "source": [
    "## Rename columns to align Dataframes"
   ],
   "metadata": {}
  },
  {
   "cell_type": "markdown",
   "source": [
    "### Align values of Countrys and Country Codes"
   ],
   "metadata": {}
  },
  {
   "cell_type": "code",
   "execution_count": null,
   "source": [
    "meat_df['Location'].replace(cc_dict, inplace = True)"
   ],
   "outputs": [],
   "metadata": {}
  },
  {
   "cell_type": "markdown",
   "source": [
    "## Merge Dataframes to make Complete Dataset"
   ],
   "metadata": {}
  },
  {
   "cell_type": "code",
   "execution_count": null,
   "source": [
    "meat_df = meat_df.rename(columns={\"TIME\":\"Year\"})"
   ],
   "outputs": [],
   "metadata": {}
  },
  {
   "cell_type": "code",
   "execution_count": null,
   "source": [
    "mortality_df=mortality_df.drop(['AgeGroup','Location','DataType'], axis=1)"
   ],
   "outputs": [],
   "metadata": {}
  },
  {
   "cell_type": "code",
   "execution_count": null,
   "source": [
    "mortality_df = mortality_df.rename(columns={\"Geography\":\"LOCATION\"})"
   ],
   "outputs": [],
   "metadata": {}
  },
  {
   "cell_type": "code",
   "execution_count": null,
   "source": [
    "merge_df = pd.merge(meat_df, mortality_df, on= ['Year','LOCATION'], how =\"outer\")"
   ],
   "outputs": [],
   "metadata": {}
  },
  {
   "cell_type": "code",
   "execution_count": null,
   "source": [],
   "outputs": [],
   "metadata": {}
  }
 ],
 "metadata": {
  "orig_nbformat": 4,
  "language_info": {
   "name": "python",
   "version": "3.6.10",
   "mimetype": "text/x-python",
   "codemirror_mode": {
    "name": "ipython",
    "version": 3
   },
   "pygments_lexer": "ipython3",
   "nbconvert_exporter": "python",
   "file_extension": ".py"
  },
  "kernelspec": {
   "name": "python3",
   "display_name": "Python 3.6.10 64-bit ('PythonData': conda)"
  },
  "interpreter": {
   "hash": "79264824c40396a64d10485446bbc394f17a77ecfe3bed33e1bfdf8fe75a4647"
  }
 },
 "nbformat": 4,
 "nbformat_minor": 2
}